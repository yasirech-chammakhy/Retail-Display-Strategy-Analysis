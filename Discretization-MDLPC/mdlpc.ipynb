{
 "cells": [
  {
   "cell_type": "code",
   "execution_count": 1,
   "metadata": {},
   "outputs": [],
   "source": [
    "import numpy as np\n",
    "from sklearn import datasets\n",
    "from sklearn.model_selection import train_test_split\n",
    "from MDLP import MDLP_Discretizer\n",
    "import pandas as pd"
   ]
  },
  {
   "cell_type": "code",
   "execution_count": 5,
   "metadata": {},
   "outputs": [
    {
     "data": {
      "text/html": [
       "<div>\n",
       "<style scoped>\n",
       "    .dataframe tbody tr th:only-of-type {\n",
       "        vertical-align: middle;\n",
       "    }\n",
       "\n",
       "    .dataframe tbody tr th {\n",
       "        vertical-align: top;\n",
       "    }\n",
       "\n",
       "    .dataframe thead th {\n",
       "        text-align: right;\n",
       "    }\n",
       "</style>\n",
       "<table border=\"1\" class=\"dataframe\">\n",
       "  <thead>\n",
       "    <tr style=\"text-align: right;\">\n",
       "      <th></th>\n",
       "      <th>Y</th>\n",
       "      <th>X1</th>\n",
       "      <th>X2</th>\n",
       "      <th>X3</th>\n",
       "      <th>X4</th>\n",
       "      <th>X5</th>\n",
       "      <th>X6</th>\n",
       "      <th>X7</th>\n",
       "    </tr>\n",
       "  </thead>\n",
       "  <tbody>\n",
       "    <tr>\n",
       "      <th>0</th>\n",
       "      <td>Display</td>\n",
       "      <td>cor_sales_in_vol</td>\n",
       "      <td>cor_sales_in_val</td>\n",
       "      <td>CA_mag</td>\n",
       "      <td>value</td>\n",
       "      <td>ENSEIGNE</td>\n",
       "      <td>VenteConv</td>\n",
       "      <td>Feature</td>\n",
       "    </tr>\n",
       "    <tr>\n",
       "      <th>1</th>\n",
       "      <td>No_Displ</td>\n",
       "      <td>2</td>\n",
       "      <td>20.2</td>\n",
       "      <td>47400</td>\n",
       "      <td>36</td>\n",
       "      <td>CORA</td>\n",
       "      <td>72</td>\n",
       "      <td>No_Feat</td>\n",
       "    </tr>\n",
       "    <tr>\n",
       "      <th>2</th>\n",
       "      <td>No_Displ</td>\n",
       "      <td>2</td>\n",
       "      <td>11.9</td>\n",
       "      <td>62000</td>\n",
       "      <td>24</td>\n",
       "      <td>LECLERC</td>\n",
       "      <td>48</td>\n",
       "      <td>No_Feat</td>\n",
       "    </tr>\n",
       "    <tr>\n",
       "      <th>3</th>\n",
       "      <td>No_Displ</td>\n",
       "      <td>8</td>\n",
       "      <td>29.52</td>\n",
       "      <td>60661</td>\n",
       "      <td>60</td>\n",
       "      <td>AUCHAN</td>\n",
       "      <td>480</td>\n",
       "      <td>No_Feat</td>\n",
       "    </tr>\n",
       "    <tr>\n",
       "      <th>4</th>\n",
       "      <td>No_Displ</td>\n",
       "      <td>2</td>\n",
       "      <td>16.2</td>\n",
       "      <td>59677</td>\n",
       "      <td>19</td>\n",
       "      <td>CARREFOUR</td>\n",
       "      <td>38</td>\n",
       "      <td>No_Feat</td>\n",
       "    </tr>\n",
       "  </tbody>\n",
       "</table>\n",
       "</div>"
      ],
      "text/plain": [
       "          Y                X1                X2      X3     X4         X5   \n",
       "0   Display  cor_sales_in_vol  cor_sales_in_val  CA_mag  value   ENSEIGNE  \\\n",
       "1  No_Displ                 2              20.2   47400     36       CORA   \n",
       "2  No_Displ                 2              11.9   62000     24    LECLERC   \n",
       "3  No_Displ                 8             29.52   60661     60     AUCHAN   \n",
       "4  No_Displ                 2              16.2   59677     19  CARREFOUR   \n",
       "\n",
       "          X6       X7  \n",
       "0  VenteConv  Feature  \n",
       "1         72  No_Feat  \n",
       "2         48  No_Feat  \n",
       "3        480  No_Feat  \n",
       "4         38  No_Feat  "
      ]
     },
     "execution_count": 5,
     "metadata": {},
     "output_type": "execute_result"
    }
   ],
   "source": [
    "df = pd.read_csv('new_Base_CDM_balanced_V2.csv', sep=';',header=0)    \n",
    "df.head()"
   ]
  },
  {
   "cell_type": "code",
   "execution_count": 6,
   "metadata": {},
   "outputs": [],
   "source": [
    "# delete the first row\n",
    "df = df.drop(df.index[0])"
   ]
  },
  {
   "cell_type": "code",
   "execution_count": 7,
   "metadata": {},
   "outputs": [
    {
     "data": {
      "text/html": [
       "<div>\n",
       "<style scoped>\n",
       "    .dataframe tbody tr th:only-of-type {\n",
       "        vertical-align: middle;\n",
       "    }\n",
       "\n",
       "    .dataframe tbody tr th {\n",
       "        vertical-align: top;\n",
       "    }\n",
       "\n",
       "    .dataframe thead th {\n",
       "        text-align: right;\n",
       "    }\n",
       "</style>\n",
       "<table border=\"1\" class=\"dataframe\">\n",
       "  <thead>\n",
       "    <tr style=\"text-align: right;\">\n",
       "      <th></th>\n",
       "      <th>Y</th>\n",
       "      <th>X1</th>\n",
       "      <th>X2</th>\n",
       "      <th>X3</th>\n",
       "      <th>X4</th>\n",
       "      <th>X5</th>\n",
       "      <th>X6</th>\n",
       "      <th>X7</th>\n",
       "    </tr>\n",
       "  </thead>\n",
       "  <tbody>\n",
       "    <tr>\n",
       "      <th>1</th>\n",
       "      <td>No_Displ</td>\n",
       "      <td>2</td>\n",
       "      <td>20.2</td>\n",
       "      <td>47400</td>\n",
       "      <td>36</td>\n",
       "      <td>CORA</td>\n",
       "      <td>72</td>\n",
       "      <td>No_Feat</td>\n",
       "    </tr>\n",
       "    <tr>\n",
       "      <th>2</th>\n",
       "      <td>No_Displ</td>\n",
       "      <td>2</td>\n",
       "      <td>11.9</td>\n",
       "      <td>62000</td>\n",
       "      <td>24</td>\n",
       "      <td>LECLERC</td>\n",
       "      <td>48</td>\n",
       "      <td>No_Feat</td>\n",
       "    </tr>\n",
       "    <tr>\n",
       "      <th>3</th>\n",
       "      <td>No_Displ</td>\n",
       "      <td>8</td>\n",
       "      <td>29.52</td>\n",
       "      <td>60661</td>\n",
       "      <td>60</td>\n",
       "      <td>AUCHAN</td>\n",
       "      <td>480</td>\n",
       "      <td>No_Feat</td>\n",
       "    </tr>\n",
       "    <tr>\n",
       "      <th>4</th>\n",
       "      <td>No_Displ</td>\n",
       "      <td>2</td>\n",
       "      <td>16.2</td>\n",
       "      <td>59677</td>\n",
       "      <td>19</td>\n",
       "      <td>CARREFOUR</td>\n",
       "      <td>38</td>\n",
       "      <td>No_Feat</td>\n",
       "    </tr>\n",
       "    <tr>\n",
       "      <th>5</th>\n",
       "      <td>No_Displ</td>\n",
       "      <td>5</td>\n",
       "      <td>62.1</td>\n",
       "      <td>142602</td>\n",
       "      <td>50</td>\n",
       "      <td>CORA</td>\n",
       "      <td>250</td>\n",
       "      <td>No_Feat</td>\n",
       "    </tr>\n",
       "  </tbody>\n",
       "</table>\n",
       "</div>"
      ],
      "text/plain": [
       "          Y X1     X2      X3  X4         X5   X6       X7\n",
       "1  No_Displ  2   20.2   47400  36       CORA   72  No_Feat\n",
       "2  No_Displ  2   11.9   62000  24    LECLERC   48  No_Feat\n",
       "3  No_Displ  8  29.52   60661  60     AUCHAN  480  No_Feat\n",
       "4  No_Displ  2   16.2   59677  19  CARREFOUR   38  No_Feat\n",
       "5  No_Displ  5   62.1  142602  50       CORA  250  No_Feat"
      ]
     },
     "execution_count": 7,
     "metadata": {},
     "output_type": "execute_result"
    }
   ],
   "source": [
    "df.head()"
   ]
  },
  {
   "cell_type": "code",
   "execution_count": 8,
   "metadata": {},
   "outputs": [],
   "source": [
    "# categorical variables : X5_ENSEIGNE, X7_Feature, y_display\n",
    "df['X5'] = df['X5'].astype('category')\n",
    "df['X7'] = df['X7'].astype('category')\n",
    "df['Y'] = df['Y'].astype('category')\n",
    "\n",
    "# numerical variables : X1_cor_sales_in_vol, X2_cor_sales_in_val, X3_CA_mag, X4_value, X6_VenteConv\n",
    "df['X1'] = df['X1'].astype('float')\n",
    "df['X2'] = df['X2'].astype('float')\n",
    "df['X3'] = df['X3'].astype('float')\n",
    "df['X4'] = df['X4'].astype('float')\n",
    "df['X6'] = df['X6'].astype('float')"
   ]
  },
  {
   "cell_type": "code",
   "execution_count": 12,
   "metadata": {},
   "outputs": [],
   "source": [
    "# convert categorical variables to numerical variables\n",
    "from sklearn.preprocessing import LabelEncoder\n",
    "\n",
    "# Create a label encoder object\n",
    "le = LabelEncoder()\n",
    "\n",
    "# Apply the label encoder to each column\n",
    "df['Y'] = le.fit_transform(df['Y'])"
   ]
  },
  {
   "cell_type": "code",
   "execution_count": 13,
   "metadata": {},
   "outputs": [],
   "source": [
    "X , y = df.iloc[:,[1,2,3,4,6]].values , df.iloc[:,0].values"
   ]
  },
  {
   "cell_type": "code",
   "execution_count": 14,
   "metadata": {},
   "outputs": [
    {
     "data": {
      "text/plain": [
       "array([1, 1, 1, ..., 0, 0, 0])"
      ]
     },
     "execution_count": 14,
     "metadata": {},
     "output_type": "execute_result"
    }
   ],
   "source": [
    "y"
   ]
  },
  {
   "cell_type": "code",
   "execution_count": 15,
   "metadata": {},
   "outputs": [],
   "source": [
    "feature_names, class_names = df.columns[1:5] , df.columns[0]\n"
   ]
  },
  {
   "cell_type": "code",
   "execution_count": 16,
   "metadata": {},
   "outputs": [
    {
     "data": {
      "text/plain": [
       "Index(['X1', 'X2', 'X3', 'X4'], dtype='object')"
      ]
     },
     "execution_count": 16,
     "metadata": {},
     "output_type": "execute_result"
    }
   ],
   "source": [
    "feature_names"
   ]
  },
  {
   "cell_type": "code",
   "execution_count": 17,
   "metadata": {},
   "outputs": [
    {
     "data": {
      "text/plain": [
       "'Y'"
      ]
     },
     "execution_count": 17,
     "metadata": {},
     "output_type": "execute_result"
    }
   ],
   "source": [
    "class_names"
   ]
  },
  {
   "cell_type": "code",
   "execution_count": 18,
   "metadata": {},
   "outputs": [],
   "source": [
    "numeric_features = np.arange(X.shape[1])  # all fetures in this dataset are numeric. These will be discretized\n",
    "#Initialize discretizer object and fit to training data\n",
    "discretizer = MDLP_Discretizer(features=numeric_features)\n",
    "X_discretized = discretizer.fit_transform(X,y)\n",
    "import json\n",
    "dict = discretizer._cuts\n",
    "values = dict.values()\n",
    "\n",
    "with open('cut.txt', 'w') as f:\n",
    "    for _list in values:\n",
    "        f.write(str(_list) + '\\n')"
   ]
  },
  {
   "cell_type": "code",
   "execution_count": 19,
   "metadata": {},
   "outputs": [],
   "source": [
    "pd.DataFrame(X_discretized,columns=[\"x1\",\"x2\",\"x3\",\"x4\",\"x6\"]).to_csv(\"./data_discretized.csv\")"
   ]
  },
  {
   "cell_type": "code",
   "execution_count": null,
   "metadata": {},
   "outputs": [],
   "source": []
  }
 ],
 "metadata": {
  "kernelspec": {
   "display_name": "Python 3",
   "language": "python",
   "name": "python3"
  },
  "language_info": {
   "codemirror_mode": {
    "name": "ipython",
    "version": 3
   },
   "file_extension": ".py",
   "mimetype": "text/x-python",
   "name": "python",
   "nbconvert_exporter": "python",
   "pygments_lexer": "ipython3",
   "version": "3.11.3"
  }
 },
 "nbformat": 4,
 "nbformat_minor": 2
}
